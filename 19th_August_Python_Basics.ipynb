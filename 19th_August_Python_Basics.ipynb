{
 "cells": [
  {
   "cell_type": "markdown",
   "id": "5d1420be-e5ff-4fcb-9fb2-acdb5130d573",
   "metadata": {},
   "source": [
    "Declare two variables, `x` and `y`, and assign them integer values. Swap the\n",
    "values of these variables without using any temporary variable."
   ]
  },
  {
   "cell_type": "code",
   "execution_count": 19,
   "id": "ed63c6ff-b502-498d-ae1e-e7d76c66d348",
   "metadata": {},
   "outputs": [
    {
     "name": "stdout",
     "output_type": "stream",
     "text": [
      "10 20\n",
      "20 10\n"
     ]
    }
   ],
   "source": [
    "x = 10\n",
    "y = 20\n",
    "print(x,y)\n",
    "y = y-x\n",
    "x = x+y\n",
    "print(x,y)"
   ]
  },
  {
   "cell_type": "markdown",
   "id": "c3e000ba-9a5d-4305-b164-b55896fcbc7a",
   "metadata": {},
   "source": [
    "Create a program that calculates the area of a rectangle. Take the length and\n",
    "width as inputs from the user and store them in variables. Calculate and\n",
    "display the area."
   ]
  },
  {
   "cell_type": "code",
   "execution_count": 20,
   "id": "b2d9ed89-a597-428a-92ae-1273434175e7",
   "metadata": {},
   "outputs": [
    {
     "name": "stdout",
     "output_type": "stream",
     "text": [
      "Give Length of Rectangle\n"
     ]
    },
    {
     "name": "stdin",
     "output_type": "stream",
     "text": [
      " 45\n"
     ]
    },
    {
     "name": "stdout",
     "output_type": "stream",
     "text": [
      "Give Breath of Rectangle\n"
     ]
    },
    {
     "name": "stdin",
     "output_type": "stream",
     "text": [
      " 55\n"
     ]
    },
    {
     "name": "stdout",
     "output_type": "stream",
     "text": [
      "Area is  2475\n"
     ]
    }
   ],
   "source": [
    "print('Give Length of Rectangle')\n",
    "x = int(input())\n",
    "print('Give Breath of Rectangle')\n",
    "y = int(input())\n",
    "area = x*y\n",
    "print('Area is ',area)"
   ]
  },
  {
   "cell_type": "markdown",
   "id": "43863b43-04eb-4d7e-b51f-cc6f64cafad5",
   "metadata": {},
   "source": [
    "Write a Python program that converts temperatures from Celsius to\n",
    "Fahrenheit. Take the temperature in Celsius as input, store it in a variable,\n",
    "convert it to Fahrenheit, and display the result."
   ]
  },
  {
   "cell_type": "code",
   "execution_count": 21,
   "id": "d3807fb6-f5bf-442b-aa70-f37a0ea6f21b",
   "metadata": {},
   "outputs": [
    {
     "name": "stdout",
     "output_type": "stream",
     "text": [
      "Enter the temperature in Celcius\n"
     ]
    },
    {
     "name": "stdin",
     "output_type": "stream",
     "text": [
      " 55.6\n"
     ]
    },
    {
     "name": "stdout",
     "output_type": "stream",
     "text": [
      "Temperature in Farenheit is: 132.08\n"
     ]
    }
   ],
   "source": [
    "print('Enter the temperature in Celcius')\n",
    "C = float(input())\n",
    "F = (C * 9/5) + 32\n",
    "print('Temperature in Farenheit is:',F)"
   ]
  },
  {
   "cell_type": "raw",
   "id": "e8f3d92e-7b6e-4cf2-9219-a7c30582fb6c",
   "metadata": {},
   "source": [
    "1. Write a Python program that takes a string as input and prints the length of\n",
    "the string."
   ]
  },
  {
   "cell_type": "code",
   "execution_count": 22,
   "id": "d8c3c270-f473-4cad-bffd-2a557a432db7",
   "metadata": {},
   "outputs": [
    {
     "name": "stdout",
     "output_type": "stream",
     "text": [
      "Enter a string\n"
     ]
    },
    {
     "name": "stdin",
     "output_type": "stream",
     "text": [
      " gates\n"
     ]
    },
    {
     "name": "stdout",
     "output_type": "stream",
     "text": [
      "Length of string is  5\n"
     ]
    }
   ],
   "source": [
    "print('Enter a string')\n",
    "x = str(input())\n",
    "y = len(x)\n",
    "print('Length of string is ',y)"
   ]
  },
  {
   "cell_type": "markdown",
   "id": "a552d355-246e-4622-ac17-1315ef2d2e5b",
   "metadata": {},
   "source": [
    "Create a program that takes a sentence from the user and counts the number\n",
    "of vowels (a, e, i, o, u) in the string."
   ]
  },
  {
   "cell_type": "code",
   "execution_count": 23,
   "id": "c547342d-bd28-4bdb-8691-c91577d02e30",
   "metadata": {},
   "outputs": [
    {
     "name": "stdout",
     "output_type": "stream",
     "text": [
      "Enter a string\n"
     ]
    },
    {
     "name": "stdin",
     "output_type": "stream",
     "text": [
      " onions\n"
     ]
    },
    {
     "name": "stdout",
     "output_type": "stream",
     "text": [
      "No of vowels in the sentence 3\n"
     ]
    }
   ],
   "source": [
    "print('Enter a string')\n",
    "x = str(input())\n",
    "vowels = \"aeiou\"\n",
    "count = sum(x.count(vowel) for vowel in vowels)\n",
    "print('No of vowels in the sentence',count)"
   ]
  },
  {
   "cell_type": "markdown",
   "id": "5e3e068a-fd6c-471a-ae30-e04bf42ee22e",
   "metadata": {},
   "source": [
    "Given a string, reverse the order of characters using string slicing and print\n",
    "the reversed string."
   ]
  },
  {
   "cell_type": "code",
   "execution_count": null,
   "id": "af58e46f-6912-4801-9576-fd355f63c0b2",
   "metadata": {},
   "outputs": [
    {
     "name": "stdout",
     "output_type": "stream",
     "text": [
      "Enter a string\n"
     ]
    }
   ],
   "source": [
    "print('Enter a string')\n",
    "x = str(input())\n",
    "print('Reversed String is',x[-1::-1])"
   ]
  },
  {
   "cell_type": "markdown",
   "id": "57ada0fd-fa42-43e7-97ac-335c5f3f695c",
   "metadata": {},
   "source": [
    "Write a program that takes a string as input and checks if it is a palindrome\n",
    "(reads the same forwards and backwards)."
   ]
  },
  {
   "cell_type": "code",
   "execution_count": 13,
   "id": "724de5d2-3460-4a5b-a528-d35e7b2ca06d",
   "metadata": {},
   "outputs": [
    {
     "name": "stdout",
     "output_type": "stream",
     "text": [
      "Enter a string\n"
     ]
    },
    {
     "name": "stdin",
     "output_type": "stream",
     "text": [
      " madam\n"
     ]
    },
    {
     "name": "stdout",
     "output_type": "stream",
     "text": [
      "madam is Palindrome\n"
     ]
    }
   ],
   "source": [
    "print('Enter a string')\n",
    "x = str(input())\n",
    "y = x[-1: :-1]\n",
    "if x == y:\n",
    "    print(x,'is Palindrome')\n",
    "else:\n",
    "    print(x,'is not a Palindrome')\n",
    "\n"
   ]
  },
  {
   "cell_type": "raw",
   "id": "f51c90d5-45f9-4973-9786-85139e81735c",
   "metadata": {},
   "source": [
    "Create a program that takes a string as input and removes all the spaces from\n",
    "it. Print the modified string without spaces."
   ]
  },
  {
   "cell_type": "code",
   "execution_count": 17,
   "id": "10d835a3-835c-4575-b38e-3d00d5826baf",
   "metadata": {},
   "outputs": [
    {
     "name": "stdout",
     "output_type": "stream",
     "text": [
      "Enter a String with empty space at the beginning and in the end\n"
     ]
    },
    {
     "name": "stdin",
     "output_type": "stream",
     "text": [
      "   hello world  \n"
     ]
    },
    {
     "name": "stdout",
     "output_type": "stream",
     "text": [
      "hello world\n"
     ]
    }
   ],
   "source": [
    "print('Enter a String with empty space at the beginning and in the end')\n",
    "x = str(input())\n",
    "y = x.strip()\n",
    "print(y)"
   ]
  }
 ],
 "metadata": {
  "kernelspec": {
   "display_name": "Python 3 (ipykernel)",
   "language": "python",
   "name": "python3"
  },
  "language_info": {
   "codemirror_mode": {
    "name": "ipython",
    "version": 3
   },
   "file_extension": ".py",
   "mimetype": "text/x-python",
   "name": "python",
   "nbconvert_exporter": "python",
   "pygments_lexer": "ipython3",
   "version": "3.10.8"
  }
 },
 "nbformat": 4,
 "nbformat_minor": 5
}
